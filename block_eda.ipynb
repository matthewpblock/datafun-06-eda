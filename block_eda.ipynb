{
 "cells": [
  {
   "cell_type": "markdown",
   "metadata": {},
   "source": [
    "# P6 EDA Assignment - Small Business Facebook Post\n",
    "- Author: Matthew Block\n",
    "- CAO: 13 Feb 2025"
   ]
  },
  {
   "cell_type": "markdown",
   "metadata": {},
   "source": [
    "## Description\n",
    "My wife has a small business offering art classes and private lessons, and asked me to see if I could find any useful insights to help improve her marketing and sales. At first I looked into her sales data through Square, but there's a lot of personal customer data in there that doesn't belong in a public repository. So I checked out Facebook post data from her page and decided that would be a much better fit for this project.  \n",
    "Facebook/Meta allows you to download historical content performance data to a CSV file, so I grabbed approximately a year's worth of data and pulled it into my data folder. Let's walk through some exploratory data analyis to see what we can learn from it. The primary objective will be to recommend an improved posting strategy to attract more customers."
   ]
  },
  {
   "cell_type": "code",
   "execution_count": null,
   "metadata": {},
   "outputs": [],
   "source": [
    "import matplotlib.pyplot as plt\n",
    "import pandas as pd\n",
    "import seaborn as sns"
   ]
  },
  {
   "cell_type": "markdown",
   "metadata": {},
   "source": [
    "1. Import Requirements\n",
    "- pandas for wrangling the data\n",
    "- matplotlib & seaborn for visualization\n",
    "- CSVs for the data  \n",
    "Facebook only allows 92 days of data at a time. So to gather the past year's data I had to download four CSVs.  \n",
    "Let's read those into dataframes and combine them:"
   ]
  },
  {
   "cell_type": "code",
   "execution_count": 7,
   "metadata": {},
   "outputs": [
    {
     "name": "stdout",
     "output_type": "stream",
     "text": [
      "(12, 45)\n",
      "(8, 46)\n",
      "(6, 42)\n",
      "(28, 50)\n",
      "(54, 50)\n",
      "           Post ID          Page ID                     Page name  \\\n",
      "0  923886339461725  100055211027046  Rebecca Block Art and Design   \n",
      "1  965410865309272  100055211027046  Rebecca Block Art and Design   \n",
      "2  961004025749956  100055211027046  Rebecca Block Art and Design   \n",
      "3  960878012429224  100055211027046  Rebecca Block Art and Design   \n",
      "4  955834116266947  100055211027046  Rebecca Block Art and Design   \n",
      "\n",
      "                                               Title  \\\n",
      "0  Aloha! I suppose I should make my first post-c...   \n",
      "1  Work in progress - I'm recording a bunch of pr...   \n",
      "2  Register now for art classes in May! Registrat...   \n",
      "3  Some artists LOVE using a logical, scientific ...   \n",
      "4  Two cacao pods of various ripeness and sizes, ...   \n",
      "\n",
      "                                         Description  Duration (sec)  \\\n",
      "0                                                NaN               0   \n",
      "1                                                NaN               0   \n",
      "2  Register now for art classes in May! Registrat...              24   \n",
      "3  Some artists LOVE using a logical, scientific ...              57   \n",
      "4                                                NaN               0   \n",
      "\n",
      "       Publish time  Caption type  \\\n",
      "0  02/26/2024 19:31           NaN   \n",
      "1  05/03/2024 16:27           NaN   \n",
      "2  04/26/2024 23:21           NaN   \n",
      "3  04/26/2024 18:32           NaN   \n",
      "4  04/18/2024 18:52           NaN   \n",
      "\n",
      "                                           Permalink  Is crosspost  ...  \\\n",
      "0  https://www.facebook.com/rebeccablockartworks/...             0  ...   \n",
      "1  https://www.facebook.com/rebeccablockartworks/...             0  ...   \n",
      "2     https://www.facebook.com/reel/289465564212975/             0  ...   \n",
      "3     https://www.facebook.com/reel/454204507285974/             0  ...   \n",
      "4  https://www.facebook.com/rebeccablockartworks/...             0  ...   \n",
      "\n",
      "   REELS_PLAYS:COUNT Seconds viewed  Average Seconds viewed  \\\n",
      "0                NaN            NaN                     NaN   \n",
      "1                NaN            NaN                     NaN   \n",
      "2              448.0       2435.710                   7.985   \n",
      "3              119.0        850.249                   8.502   \n",
      "4                NaN            NaN                     NaN   \n",
      "\n",
      "   Estimated earnings (USD)  Ad impressions  Ad CPM (USD) Views  Views.1  \\\n",
      "0                       NaN             NaN           NaN   NaN      NaN   \n",
      "1                       NaN             NaN           NaN   NaN      NaN   \n",
      "2                       0.0             0.0           NaN   NaN      NaN   \n",
      "3                       0.0             0.0           NaN   NaN      NaN   \n",
      "4                       NaN             NaN           NaN   NaN      NaN   \n",
      "\n",
      "   IMPRESSION:UNIQUE_USERS  IMPRESSION:UNIQUE_USERS.1  \n",
      "0                      NaN                        NaN  \n",
      "1                      NaN                        NaN  \n",
      "2                      NaN                        NaN  \n",
      "3                      NaN                        NaN  \n",
      "4                      NaN                        NaN  \n",
      "\n",
      "[5 rows x 50 columns]\n"
     ]
    }
   ],
   "source": [
    "# Import data\n",
    "df1 = pd.read_csv('./data/Feb-18-2024_May-19-2024_980630036772690.csv')\n",
    "df2 = pd.read_csv('./data/May-20-2024_Aug-14-2024_1169162484575274.csv')\n",
    "df3 = pd.read_csv('./data/Aug-15-2024_Nov-13-2024_938308191626713.csv')\n",
    "df4 = pd.read_csv('./data/Nov-15-2024_Feb-12-2025_438700299233158.csv')\n",
    "print(df1.shape)\n",
    "print(df2.shape)\n",
    "print(df3.shape)\n",
    "print(df4.shape)\n",
    "\n",
    "# Comnine data into one dataframe\n",
    "df = pd.concat([df1, df2, df3, df4])\n",
    "print(df.shape)\n",
    "print(df.head())\n"
   ]
  },
  {
   "cell_type": "markdown",
   "metadata": {},
   "source": [
    "2. Initial Inspection\n"
   ]
  }
 ],
 "metadata": {
  "kernelspec": {
   "display_name": ".venv",
   "language": "python",
   "name": "python3"
  },
  "language_info": {
   "codemirror_mode": {
    "name": "ipython",
    "version": 3
   },
   "file_extension": ".py",
   "mimetype": "text/x-python",
   "name": "python",
   "nbconvert_exporter": "python",
   "pygments_lexer": "ipython3",
   "version": "3.12.7"
  }
 },
 "nbformat": 4,
 "nbformat_minor": 2
}
