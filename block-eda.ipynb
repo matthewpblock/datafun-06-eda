{
 "cells": [
  {
   "cell_type": "markdown",
   "metadata": {},
   "source": [
    "# P6 Assignment"
   ]
  }
 ],
 "metadata": {
  "kernelspec": {
   "display_name": ".venv",
   "language": "python",
   "name": "python3"
  },
  "language_info": {
   "name": "python",
   "version": "3.12.7"
  }
 },
 "nbformat": 4,
 "nbformat_minor": 2
}
